{
 "cells": [
  {
   "cell_type": "code",
   "execution_count": null,
   "id": "ad554241-fbf3-4268-9638-a1ec5cd760c3",
   "metadata": {},
   "outputs": [],
   "source": []
  }
 ],
 "metadata": {
  "kernelspec": {
   "display_name": "",
   "name": ""
  },
  "language_info": {
   "name": ""
  }
 },
 "nbformat": 4,
 "nbformat_minor": 5
}
